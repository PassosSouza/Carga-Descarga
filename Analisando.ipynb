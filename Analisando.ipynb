{
 "cells": [
  {
   "cell_type": "markdown",
   "id": "666155f5",
   "metadata": {},
   "source": [
    "# Análise de Carga e Descarga\n",
    "Agora analisando a Carga e Descarga feita no potenciostato do Laboratório S07 foi possível obter os resultados discutidos a baixo.\n",
    "\n",
    "Análise de capacitância foi feita usando https://doi.org/10.1039/C8CS00581H (página 45)"
   ]
  },
  {
   "cell_type": "markdown",
   "id": "b4f34a52",
   "metadata": {},
   "source": [
    "# NaF + KF (Enumerado 2)"
   ]
  },
  {
   "cell_type": "code",
   "execution_count": 17,
   "id": "48b0c599",
   "metadata": {},
   "outputs": [
    {
     "name": "stdout",
     "output_type": "stream",
     "text": [
      "0.00658 mg\n"
     ]
    }
   ],
   "source": [
    "x = (4.7*2)/(600+400) #massa total do MXene por gota em mg.\n",
    "porcentage=0.7\n",
    "#agora sabemos porcentagem, com ela achamos massa condutora\n",
    "Mass = x*porcentage\n",
    "print(f'{Mass} mg')\n",
    "#passando para kg\n",
    "MassG = Mass*10**(-3)#NA REAL É GRAMA\n",
    "MassG=x/1000"
   ]
  },
  {
   "cell_type": "code",
   "execution_count": 18,
   "id": "74c7321e",
   "metadata": {},
   "outputs": [],
   "source": [
    "import pandas as pd\n",
    "import numpy as np\n",
    "data = pd.read_csv('CDMXene2-1Ag-1CARGA2.txt',sep=';')\n",
    "t1 = data['Time (s)'].values\n",
    "P1 = data['WE(1).Potential (V)'].values\n",
    "\n",
    "data = pd.read_csv('CDMXene2-1Ag-1DESCARGA2.txt',sep=';')\n",
    "t11 = data['Time (s)'].values\n",
    "P11 = data['WE(1).Potential (V)'].values\n",
    "for i in range(len(t11)):\n",
    "    t1 = np.append(t1,t11[i])\n",
    "    P1=np.append(P1,P11[i])\n",
    "\n",
    "t1=t1-t1[0]\n",
    "data = pd.read_csv('CDMXene2-10Ag-1CARGA2.txt',sep=';')\n",
    "t2 = data['Time (s)'].values\n",
    "P2 = data['WE(1).Potential (V)'].values\n",
    "\n",
    "data = pd.read_csv('CDMXene2-10Ag-1DESCARGA2.txt',sep=';')\n",
    "t22 = data['Time (s)'].values\n",
    "P22 = data['WE(1).Potential (V)'].values\n",
    "for i in range(len(t22)):\n",
    "    t2 = np.append(t2,t22[i])\n",
    "    P2=np.append(P2,P22[i])\n",
    "data = pd.read_csv('CDMXene2-50Ag-1CARGA.txt',sep=';')\n",
    "t5 = data['Time (s)'].values\n",
    "P5 = data['WE(1).Potential (V)'].values\n",
    "\n",
    "data = pd.read_csv('CDMXene2-50Ag-1DESCARGA.txt',sep=';')\n",
    "t33 = data['Time (s)'].values\n",
    "P33 = data['WE(1).Potential (V)'].values\n",
    "\n",
    "for i in range(len(t33)):\n",
    "    t5 = np.append(t5,t33[i])\n",
    "    P5 = np.append(P5,P33[i])\n",
    "    \n",
    "data = pd.read_csv('CDMXene2-100Ag-1CARGA.txt',sep=';')\n",
    "t4 = data['Time (s)'].values\n",
    "P4 = data['WE(1).Potential (V)'].values\n",
    "\n",
    "data = pd.read_csv('CDMXene2-100Ag-1DESCARGA.txt',sep=';')\n",
    "t44 = data['Time (s)'].values\n",
    "P44 = data['WE(1).Potential (V)'].values\n",
    "\n",
    "for i in range(len(t44)):\n",
    "    t4 = np.append(t4,t44[i])\n",
    "    P4 = np.append(P4,P44[i])"
   ]
  },
  {
   "cell_type": "code",
   "execution_count": 19,
   "id": "7af50e43",
   "metadata": {
    "scrolled": true
   },
   "outputs": [
    {
     "data": {
      "image/png": "[encoded data removed]",
      "text/plain": [
       "<Figure size 432x288 with 1 Axes>"
      ]
     },
     "metadata": {
      "needs_background": "light"
     },
     "output_type": "display_data"
    }
   ],
   "source": [
    "from matplotlib import pyplot as plt\n",
    "\n",
    "plt.plot(t1,P1,'-',label='1 Ag-1',color='green')\n",
    "plt.plot(t2,P2,'-',label='10 Ag-1',color = 'orange')\n",
    "plt.plot(t5,P5,'-',label='50 Ag-1',color='blue')\n",
    "plt.plot(t4,P4,'-',label='100 Ag-1',color='gray')\n",
    "\n",
    "plt.xlabel(' Time (s)')\n",
    "plt.ylabel('Potential (V)')\n",
    "plt.legend()\n",
    "\n",
    "plt.savefig('GraficosJUntos.png')\n"
   ]
  },
  {
   "cell_type": "markdown",
   "id": "e13e4aa9",
   "metadata": {},
   "source": [
    "Como $C = \\frac{\\Delta q}{\\Delta V} = \\frac{i \\Delta t}{\\Delta V}$\n",
    "\n",
    "$C = \\frac{i}{\\frac{dV}{dt}}$\n",
    "\n",
    "$\\frac{\\Delta q}{\\Delta V} = \\frac{i \\Delta t}{\\Delta V}$, se multiplicar o lado direito por V/V\n",
    "\n",
    "$ C = \\frac{2 i \\int V dt}{ V_f^2 - V_i^2}$\n",
    "\n",
    "Se quero capacitância específica $\\boxed{C_s = 2j_s \\frac{\\int V dt}{V_f^2-V_i^2}} $"
   ]
  },
  {
   "cell_type": "code",
   "execution_count": 20,
   "id": "a8531a6e",
   "metadata": {},
   "outputs": [
    {
     "data": {
      "image/png": "[encoded data removed]",
      "text/plain": [
       "<Figure size 432x288 with 1 Axes>"
      ]
     },
     "metadata": {
      "needs_background": "light"
     },
     "output_type": "display_data"
    }
   ],
   "source": [
    "def area_between_points(x,y):\n",
    "    area = 0\n",
    "    for i in range(len(x)-1):\n",
    "        dx = x[i+1] - x[i]\n",
    "        avg_y = abs((y[i+1] + y[i]))/2\n",
    "        area += abs(dx) * avg_y\n",
    "    return abs(area)\n",
    "j1 = 9.4*10**(-6)/MassG\n",
    "A=area_between_points(t11,P11)\n",
    "C1=2*j1*A/(P11[0]**2-P11[len(P11)-1]**2)\n",
    "\n",
    "j2 = 9.4*10**(-5)/MassG\n",
    "A=area_between_points(t22,P22)\n",
    "C2 = 2*j2*A/(P22[0]**2-P22[len(P22)-1]**2)\n",
    "\n",
    "j3 = 4.7*10**(-4)/MassG\n",
    "A=area_between_points(t33,P33)\n",
    "C3 = 2*j3*A/(P33[0]**2-P33[len(P33)-1]**2)\n",
    "\n",
    "j4 = 9.4*10**(-4)/MassG\n",
    "A=area_between_points(t44,P44)\n",
    "C4 = 2*j4*A/(abs(P44[0]**2-P44[len(P44)-1]**2))\n",
    "\n",
    "plt.plot(np.array([j1,j2,j3,j4]),np.array([C1,C2,C3,C4]),'o')\n",
    "\n",
    "plt.xlabel(' Current Density (A/g)')\n",
    "plt.ylabel(r'$C_s$ (F/g)')\n",
    "\n",
    "plt.savefig('GraficosJUntos.png')"
   ]
  },
  {
   "cell_type": "markdown",
   "id": "c1134381",
   "metadata": {},
   "source": [
    "# MXene LiF+NaF (ENUMERATED 1)"
   ]
  },
  {
   "cell_type": "code",
   "execution_count": 5,
   "id": "fa787b79",
   "metadata": {},
   "outputs": [
    {
     "name": "stdout",
     "output_type": "stream",
     "text": [
      "0.0064 mg\n"
     ]
    }
   ],
   "source": [
    "x = (4*2)/(600+400) #massa total do MXene por gota em mg.\n",
    "#porcentage = Ti/Ti3C2\n",
    "porcentage=0.8\n",
    "#agora sabemos porcentagem, com ela achamos massa condutora\n",
    "Mass = x*porcentage\n",
    "print(f'{Mass} mg')\n",
    "#passando para kg\n",
    "MassG = Mass*10**(-3)#NA REAL É GRAMA"
   ]
  },
  {
   "cell_type": "code",
   "execution_count": 6,
   "id": "30b6d23f",
   "metadata": {},
   "outputs": [],
   "source": [
    "import pandas as pd\n",
    "import numpy as np\n",
    "data = pd.read_csv('Mxene1-1Ag-CARGA2.txt',sep=';')\n",
    "t1 = data['Time (s)'].values\n",
    "P1 = data['WE(1).Potential (V)'].values\n",
    "\n",
    "data = pd.read_csv('Mxene1-1Ag-DESCARGA2.txt',sep=';')\n",
    "t11 = data['Time (s)'].values\n",
    "P11 = data['WE(1).Potential (V)'].values\n",
    "for i in range(len(t11)):\n",
    "    t1 = np.append(t1,t11[i])\n",
    "    P1=np.append(P1,P11[i])\n",
    "\n",
    "t1=t1-t1[0]\n",
    "data = pd.read_csv('Mxene1-10Ag-CARGA.txt',sep=';')\n",
    "t2 = data['Time (s)'].values\n",
    "P2 = data['WE(1).Potential (V)'].values\n",
    "\n",
    "data = pd.read_csv('Mxene1-10Ag-DESCARGA.txt',sep=';')\n",
    "t22 = data['Time (s)'].values\n",
    "P22 = data['WE(1).Potential (V)'].values\n",
    "for i in range(len(t22)):\n",
    "    t2 = np.append(t2,t22[i])\n",
    "    P2=np.append(P2,P22[i])\n",
    "t2=t2-t2[0]\n",
    "data = pd.read_csv('Mxene1-50Ag-CARGA.txt',sep=';')\n",
    "t3 = data['Time (s)'].values\n",
    "P3 = data['WE(1).Potential (V)'].values\n",
    "\n",
    "data = pd.read_csv('Mxene1-50Ag-DESCARGA.txt',sep=';')\n",
    "t33 = data['Time (s)'].values\n",
    "P33 = data['WE(1).Potential (V)'].values\n",
    "\n",
    "for i in range(len(t33)):\n",
    "    t3 = np.append(t3,t33[i])\n",
    "    P3 = np.append(P3,P33[i])\n",
    "t3=t3-t3[0]  \n",
    "data = pd.read_csv('Mxene1-100Ag-CARGA2.txt',sep=';')\n",
    "t4 = data['Time (s)'].values\n",
    "P4 = data['WE(1).Potential (V)'].values\n",
    "\n",
    "data = pd.read_csv('Mxene1-100Ag-DESCARGA2.txt',sep=';')\n",
    "t44 = data['Time (s)'].values\n",
    "P44 = data['WE(1).Potential (V)'].values\n",
    "\n",
    "for i in range(len(t44)):\n",
    "    t4 = np.append(t4,t44[i])\n",
    "    P4 = np.append(P4,P44[i])\n",
    "t4-=t4[0]"
   ]
  },
  {
   "cell_type": "code",
   "execution_count": 7,
   "id": "747d4084",
   "metadata": {},
   "outputs": [
    {
     "data": {
      "image/png": "[encoded data removed]",
      "text/plain": [
       "<Figure size 432x288 with 1 Axes>"
      ]
     },
     "metadata": {
      "needs_background": "light"
     },
     "output_type": "display_data"
    }
   ],
   "source": [
    "from matplotlib import pyplot as plt\n",
    "\n",
    "plt.plot(t1,P1,'-',label='1 Ag-1',color='green')\n",
    "plt.plot(t2,P2,'-',label='10 Ag-1',color = 'orange')\n",
    "plt.plot(t3,P3,'-',label='50 Ag-1',color='blue')\n",
    "plt.plot(t4,P4,'-',label='100 Ag-1',color='gray')\n",
    "\n",
    "plt.xlabel(' Time (s)')\n",
    "plt.ylabel('Potential (V)')\n",
    "plt.legend()\n",
    "\n",
    "plt.savefig('GraficosJUntos.png')\n"
   ]
  },
  {
   "cell_type": "code",
   "execution_count": 8,
   "id": "91932b54",
   "metadata": {},
   "outputs": [
    {
     "data": {
      "image/png": "[encoded data removed]",
      "text/plain": [
       "<Figure size 432x288 with 1 Axes>"
      ]
     },
     "metadata": {
      "needs_background": "light"
     },
     "output_type": "display_data"
    }
   ],
   "source": [
    "def area_between_points(x,y):\n",
    "    area = 0\n",
    "    for i in range(len(x)-1):\n",
    "        dx = x[i+1] - x[i]\n",
    "        avg_y = abs((y[i+1] + y[i]))/2\n",
    "        area += abs(dx) * avg_y\n",
    "    return abs(area)\n",
    "j1 = 8.6*10**(-6)/MassG\n",
    "A=area_between_points(t11,P11)\n",
    "C1=2*j1*A/(P11[0]**2-P11[len(P11)-1]**2)\n",
    "\n",
    "j2 = 8.6*10**(-5)/MassG\n",
    "A=area_between_points(t22,P22)\n",
    "C2 = 2*j2*A/(P22[0]**2-P22[len(P22)-1]**2)\n",
    "\n",
    "j3 = 4.3*10**(-4)/MassG\n",
    "A=area_between_points(t33,P33)\n",
    "C3 = 2*j3*A/(P33[0]**2-P33[len(P33)-1]**2)\n",
    "\n",
    "j4 = 8.6*10**(-4)/MassG\n",
    "A=area_between_points(t44,P44)\n",
    "C4 = 2*j4*A/(P44[0]**2-P44[len(P44)-1]**2)\n",
    "\n",
    "plt.plot(np.array([j1,j2,j3,j4]),np.array([C1,C2,C3,C4]),'o')\n",
    "\n",
    "plt.xlabel(' Current Density (A/g)')\n",
    "plt.ylabel(r'$C_s$ (F/g)')\n",
    "\n",
    "plt.savefig('GraficosJUntos.png')"
   ]
  },
  {
   "cell_type": "markdown",
   "id": "13c31b94",
   "metadata": {},
   "source": [
    "# MXene LiF (Enumerated 3)"
   ]
  },
  {
   "cell_type": "code",
   "execution_count": 9,
   "id": "9c760787",
   "metadata": {},
   "outputs": [
    {
     "name": "stdout",
     "output_type": "stream",
     "text": [
      "0.009179999999999999 mg\n"
     ]
    }
   ],
   "source": [
    "x = (5.1*2)/(600+400) #massa total do MXene por gota em mg.\n",
    "#porcentage = Ti/Ti3C2\n",
    "porcentage=0.9\n",
    "#agora sabemos porcentagem, com ela achamos massa condutora\n",
    "Mass = x*porcentage\n",
    "print(f'{Mass} mg')\n",
    "#passando para kg\n",
    "MassG = Mass*10**(-3)#NA REAL É GRAMA"
   ]
  },
  {
   "cell_type": "code",
   "execution_count": 10,
   "id": "3b76c62b",
   "metadata": {},
   "outputs": [],
   "source": [
    "import pandas as pd\n",
    "import numpy as np\n",
    "data = pd.read_csv('CD-Mxene3-1Ag-CARGA.txt',sep=';')\n",
    "t1 = data['Time (s)'].values\n",
    "P1 = data['WE(1).Potential (V)'].values\n",
    "\n",
    "data = pd.read_csv('CD-Mxene3-1Ag-DESCARGA.txt',sep=';')\n",
    "t11 = data['Time (s)'].values\n",
    "P11 = data['WE(1).Potential (V)'].values\n",
    "for i in range(len(t11)):\n",
    "    t1 = np.append(t1,t11[i])\n",
    "    P1=np.append(P1,P11[i])\n",
    "\n",
    "t1=t1-t1[0]\n",
    "data = pd.read_csv('CD-Mxene3-10Ag-CARGA.txt',sep=';')\n",
    "t2 = data['Time (s)'].values\n",
    "P2 = data['WE(1).Potential (V)'].values\n",
    "\n",
    "data = pd.read_csv('CD-Mxene3-10Ag-DESCARGA.txt',sep=';')\n",
    "t22 = data['Time (s)'].values\n",
    "P22 = data['WE(1).Potential (V)'].values\n",
    "for i in range(len(t22)):\n",
    "    t2 = np.append(t2,t22[i])\n",
    "    P2=np.append(P2,P22[i])\n",
    "\n",
    "t2=t2-t2[0]\n",
    "data = pd.read_csv('CD-Mxene3-5Ag-CARGA.txt',sep=';')\n",
    "t3 = data['Time (s)'].values\n",
    "P3 = data['WE(1).Potential (V)'].values\n",
    "\n",
    "data = pd.read_csv('CD-Mxene3-5Ag-DESCARGA.txt',sep=';')\n",
    "t33 = data['Time (s)'].values\n",
    "P33 = data['WE(1).Potential (V)'].values\n",
    "\n",
    "for i in range(len(t33)):\n",
    "    t3 = np.append(t3,t33[i])\n",
    "    P3 = np.append(P3,P33[i])\n",
    "t3=t3-t3[0]   \n",
    "data = pd.read_csv('CD-Mxene3-100Ag-CARGA.txt',sep=';')\n",
    "t4 = data['Time (s)'].values\n",
    "P4 = data['WE(1).Potential (V)'].values\n",
    "\n",
    "data = pd.read_csv('CD-Mxene3-100Ag-DESCARGA.txt',sep=';')\n",
    "t44 = data['Time (s)'].values\n",
    "P44 = data['WE(1).Potential (V)'].values\n",
    "\n",
    "for i in range(len(t44)):\n",
    "    t4 = np.append(t4,t44[i])\n",
    "    P4 = np.append(P4,P44[i])\n",
    "t4=t4-t4[0] "
   ]
  },
  {
   "cell_type": "code",
   "execution_count": 11,
   "id": "2cae0bf3",
   "metadata": {},
   "outputs": [
    {
     "data": {
      "image/png": "[encoded data removed]",
      "text/plain": [
       "<Figure size 432x288 with 1 Axes>"
      ]
     },
     "metadata": {
      "needs_background": "light"
     },
     "output_type": "display_data"
    }
   ],
   "source": [
    "from matplotlib import pyplot as plt\n",
    "\n",
    "plt.plot(t1,P1,'-',label='1 Ag-1',color='green')\n",
    "plt.plot(t2,P2,'-',label='10 Ag-1',color = 'orange')\n",
    "plt.plot(t5,P5,'-',label='50 Ag-1',color='blue')\n",
    "plt.plot(t4,P4,'-',label='100 Ag-1',color='gray')\n",
    "\n",
    "plt.xlabel(' Time (s)')\n",
    "plt.ylabel('Potential (V)')\n",
    "plt.legend()\n",
    "#plt.ylim([-0.2,1])\n",
    "plt.savefig('GraficosJUntosLiF.png')\n"
   ]
  },
  {
   "cell_type": "code",
   "execution_count": 12,
   "id": "6df1081a",
   "metadata": {},
   "outputs": [
    {
     "data": {
      "image/png": "[encoded data removed]",
      "text/plain": [
       "<Figure size 432x288 with 1 Axes>"
      ]
     },
     "metadata": {
      "needs_background": "light"
     },
     "output_type": "display_data"
    }
   ],
   "source": [
    "def area_between_points(x,y):\n",
    "    area = 0\n",
    "    for i in range(len(x)-1):\n",
    "        dx = x[i+1] - x[i]\n",
    "        avg_y = abs((y[i+1] + y[i]))/2\n",
    "        area += abs(dx) * avg_y\n",
    "    return abs(area)\n",
    "\n",
    "j1 = 1.02*10**(-5)/MassG\n",
    "A=area_between_points(t11,P11)\n",
    "C1=2*j1*A/(P11[0]**2-P11[len(P11)-1]**2)\n",
    "\n",
    "j2 = 1.02*10**(-4)/MassG\n",
    "A=area_between_points(t22,P22)\n",
    "C2 = 2*j2*A/(P22[0]**2-P22[len(P22)-1]**2)\n",
    "\n",
    "j3 = 4.3*10**(-3)/MassG\n",
    "A=area_between_points(t33,P33)\n",
    "C3 = 2*j3*A/(P33[0]**2-P33[len(P33)-1]**2)\n",
    "\n",
    "j4 = 1.02*10**(-3)/MassG\n",
    "A=area_between_points(t44,P44)\n",
    "C4 = 2*j4*A/(P44[0]**2-P44[len(P44)-1]**2)\n",
    "\n",
    "plt.plot(np.array([j1,j2,j3,j4]),np.array([C1,C2,C3,C4]),'o')\n",
    "\n",
    "plt.xlabel(' Current Density (A/g)')\n",
    "plt.ylabel(r'$C_s$ (F/g)')\n",
    "\n",
    "plt.savefig('GraficosJUntos.png')"
   ]
  },
  {
   "cell_type": "code",
   "execution_count": null,
   "id": "035ba717",
   "metadata": {},
   "outputs": [],
   "source": []
  }
 ],
 "metadata": {
  "kernelspec": {
   "display_name": "Python 3",
   "language": "python",
   "name": "python3"
  },
  "language_info": {
   "codemirror_mode": {
    "name": "ipython",
    "version": 3
   },
   "file_extension": ".py",
   "mimetype": "text/x-python",
   "name": "python",
   "nbconvert_exporter": "python",
   "pygments_lexer": "ipython3",
   "version": "3.8.8"
  }
 },
 "nbformat": 4,
 "nbformat_minor": 5
}
